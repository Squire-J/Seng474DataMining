{
 "cells": [
  {
   "cell_type": "code",
   "execution_count": 1,
   "metadata": {},
   "outputs": [],
   "source": [
    "from Data.PreProcessing import fetchData\n",
    "from Data.PreProcessing import fetchLabels\n",
    "from Algorithms.testingUtil import getScore\n",
    "import os\n",
    "from sklearn.linear_model import LogisticRegression"
   ]
  },
  {
   "cell_type": "code",
   "execution_count": 2,
   "metadata": {},
   "outputs": [
    {
     "name": "stdout",
     "output_type": "stream",
     "text": [
      "[1015.0, 1019.0, 1012.0, 1013.0, 33.0, 101.0, 15.0, 10.0, 59.0]\n"
     ]
    }
   ],
   "source": [
    "data = []\n",
    "\n",
    "for fileName in os.listdir('Data/csvData'):\n",
    "    if fileName.startswith('mar9'):\n",
    "        f = 'Data/csvData/' + fileName\n",
    "        data.append(fetchData(f))\n",
    "        \n",
    "print(data[4][1000])"
   ]
  },
  {
   "cell_type": "code",
   "execution_count": 3,
   "metadata": {},
   "outputs": [
    {
     "name": "stdout",
     "output_type": "stream",
     "text": [
      "[33.888529982151866, 152.52256378934524]\n"
     ]
    }
   ],
   "source": [
    "labels = [];\n",
    "\n",
    "for point in data:\n",
    "    labelset = fetchLabels(point, 2020, 3, 9, 48.4634, -123.3117, -8)\n",
    "    labels.append(labelset)\n",
    "\n",
    "print(labels[1][1000])"
   ]
  },
  {
   "cell_type": "code",
   "execution_count": 4,
   "metadata": {
    "scrolled": true
   },
   "outputs": [
    {
     "name": "stderr",
     "output_type": "stream",
     "text": [
      "C:\\ProgramData\\Anaconda3\\lib\\site-packages\\sklearn\\linear_model\\logistic.py:469: FutureWarning: Default multi_class will be changed to 'auto' in 0.22. Specify the multi_class option to silence this warning.\n",
      "  \"this warning.\", FutureWarning)\n",
      "C:\\ProgramData\\Anaconda3\\lib\\site-packages\\sklearn\\linear_model\\logistic.py:469: FutureWarning: Default multi_class will be changed to 'auto' in 0.22. Specify the multi_class option to silence this warning.\n",
      "  \"this warning.\", FutureWarning)\n"
     ]
    }
   ],
   "source": [
    "LR_a = LogisticRegression(penalty='l2', C = 1.0, solver = 'lbfgs', max_iter = 100);\n",
    "LR_b = LogisticRegression(penalty='l2', C = 1.0, solver = 'lbfgs', max_iter = 100);\n",
    "\n",
    "train_set = [];\n",
    "train_labels = [];\n",
    "\n",
    "alphas = [];\n",
    "betas = [];\n",
    "\n",
    "for point in range(len(data)-1):\n",
    "    for line in data[point]:\n",
    "        alpha = line[4]\n",
    "        beta = line[5]\n",
    "                \n",
    "        '''The angle of the device works such that when laying flat and aligned with it's marker, it is at (0, 0).\n",
    "        In our case the marker pointed south. Here, we adjust it so that they corrospond to altitude and azimuth'''\n",
    "\n",
    "        if(alpha < 90):\n",
    "            alpha_alt = alpha\n",
    "            beta_alt = beta + 90\n",
    "        else:\n",
    "            alpha_alt = 90 - abs(90 - alpha)\n",
    "            beta_alt = (360 + (beta - 90))%360\n",
    "    \n",
    "        train_set.append([alpha_alt, beta_alt]);\n",
    "        alphas.append(alpha_alt)\n",
    "        betas.append(beta_alt)\n",
    "\n",
    "l_alphas = [];\n",
    "l_betas = [];       \n",
    "\n",
    "for point in range(len(labels)-1):\n",
    "    for line in labels[point]:\n",
    "        train_labels.append(line) \n",
    "        l_alphas.append(line[0])\n",
    "        l_betas.append(line[1]) \n",
    "        \n",
    "l_alphas = [round(i) for i in l_alphas] \n",
    "l_betas = [round(i) for i in l_betas]\n",
    "\n",
    "LR_a.fit(train_set, l_alphas)\n",
    "LR_b.fit(train_set, l_betas);\n",
    "\n",
    "predictions_a = LR_a.predict(train_set);\n",
    "predictions_b = LR_b.predict(train_set);"
   ]
  },
  {
   "cell_type": "code",
   "execution_count": 5,
   "metadata": {},
   "outputs": [
    {
     "name": "stdout",
     "output_type": "stream",
     "text": [
      "[1.5140248396508562, 4.447393907646203]\n"
     ]
    }
   ],
   "source": [
    "#The average number of degrees the angle is off by.\n",
    "def getAvg(predict, labels):\n",
    "    dif = 0;\n",
    "    for point in range(len(predict)):\n",
    "        dif += abs(predict[point]-labels[point])\n",
    "    dif = dif/len(predict)\n",
    "    return dif\n",
    "\n",
    "a = getAvg(predictions_a, l_alphas);\n",
    "b = getAvg(predictions_b, l_betas);\n",
    "\n",
    "print([a, b])"
   ]
  },
  {
   "cell_type": "code",
   "execution_count": 36,
   "metadata": {
    "scrolled": false
   },
   "outputs": [
    {
     "name": "stdout",
     "output_type": "stream",
     "text": [
      "ALPHA\n",
      "[34, 28]\n",
      "[28, 34]\n",
      "[29, 35]\n",
      "[27, 34]\n",
      "[27, 33]\n",
      "[33, 27]\n",
      "[34, 27]\n",
      "BETA\n",
      "[215, 135]\n",
      "[206, 135]\n",
      "[148, 136]\n",
      "[148, 137]\n",
      "[148, 138]\n",
      "[147, 138]\n",
      "[144, 138]\n",
      "[145, 138]\n",
      "[147, 139]\n",
      "[145, 139]\n",
      "[137, 143]\n",
      "[136, 143]\n",
      "[138, 144]\n",
      "[137, 144]\n",
      "[136, 144]\n",
      "[137, 145]\n",
      "[138, 145]\n",
      "[153, 147]\n",
      "[137, 147]\n",
      "[136, 147]\n",
      "[136, 148]\n",
      "[138, 148]\n",
      "[137, 148]\n",
      "[137, 149]\n",
      "[138, 149]\n",
      "[136, 153]\n",
      "[135, 153]\n",
      "[147, 153]\n",
      "[145, 153]\n",
      "[144, 153]\n",
      "[145, 154]\n",
      "[147, 154]\n",
      "[145, 155]\n",
      "[147, 155]\n",
      "[144, 155]\n",
      "[138, 155]\n",
      "[137, 155]\n",
      "[148, 155]\n",
      "[136, 155]\n",
      "[136, 206]\n",
      "[135, 206]\n",
      "[213, 206]\n",
      "[226, 206]\n",
      "[214, 206]\n",
      "[213, 207]\n",
      "[214, 207]\n",
      "[226, 207]\n",
      "[214, 208]\n",
      "[226, 208]\n",
      "[225, 208]\n",
      "[226, 209]\n",
      "[225, 209]\n",
      "[226, 210]\n",
      "[225, 210]\n",
      "[227, 210]\n",
      "[226, 211]\n",
      "[225, 211]\n",
      "[227, 211]\n",
      "[226, 212]\n",
      "[207, 213]\n",
      "[226, 213]\n",
      "[227, 213]\n",
      "[225, 213]\n",
      "[226, 214]\n",
      "[207, 214]\n",
      "[225, 214]\n",
      "[227, 214]\n",
      "[225, 215]\n",
      "[209, 215]\n",
      "[226, 215]\n",
      "[227, 215]\n",
      "[209, 216]\n",
      "[225, 216]\n",
      "[226, 216]\n",
      "[227, 216]\n",
      "[207, 216]\n",
      "[209, 217]\n",
      "[226, 217]\n",
      "[207, 217]\n",
      "[211, 217]\n",
      "[225, 217]\n",
      "[227, 217]\n",
      "[136, 224]\n",
      "[135, 224]\n",
      "[206, 224]\n",
      "[213, 224]\n",
      "[213, 225]\n",
      "[209, 225]\n",
      "[211, 225]\n",
      "[209, 226]\n",
      "[211, 226]\n",
      "[213, 226]\n",
      "[209, 227]\n",
      "Tolerance of 10 degrees\n",
      "Score: 0.6571604344197889\n",
      "\n"
     ]
    }
   ],
   "source": [
    "predictions = [];\n",
    "temp_labels = [];\n",
    "for x in range(len(predictions_a)):\n",
    "    predictions.append([predictions_a[x], predictions_b[x]])\n",
    "    temp_labels.append([l_alphas[x], l_betas[x]])\n",
    "\n",
    "print('ALPHA')\n",
    "templist = []\n",
    "for x in range(len(predictions_a)):\n",
    "    if(abs(predictions_a[x] - l_alphas[x]) > 5):\n",
    "        if [predictions_a[x], l_alphas[x]] not in templist:\n",
    "            print([predictions_a[x], l_alphas[x]])\n",
    "            templist.append([predictions_a[x], l_alphas[x]])\n",
    "\n",
    "print('BETA')\n",
    "templist = []\n",
    "for x in range(len(predictions_b)):\n",
    "    if(abs(predictions_b[x] - l_betas[x]) > 5):\n",
    "        if [predictions_b[x], l_betas[x]] not in templist:\n",
    "            print([predictions_b[x], l_betas[x]])\n",
    "            templist.append([predictions_b[x], l_betas[x]])\n",
    "            \n",
    "score = getScore(predictions, temp_labels, 10)"
   ]
  },
  {
   "cell_type": "code",
   "execution_count": 7,
   "metadata": {},
   "outputs": [],
   "source": [
    "test_labels = [];\n",
    "test_set = [];\n",
    "t_alphas = [];\n",
    "t_betas = [];       \n",
    "\n",
    "point = len(data) - 1\n",
    "for line in data[point]:\n",
    "        alpha = line[4]\n",
    "        beta = line[5]\n",
    "\n",
    "        if(alpha < 90):\n",
    "            alpha_alt = alpha\n",
    "            beta_alt = beta + 90\n",
    "        else:\n",
    "            alpha_alt = 90 - abs(90 - alpha)\n",
    "            beta_alt = (360 + (beta - 90))%360\n",
    "    \n",
    "        test_set.append([alpha_alt, beta_alt]);\n",
    "        alphas.append(alpha_alt)\n",
    "        betas.append(beta_alt)\n",
    "\n",
    "for line in labels[point]:\n",
    "    test_labels.append(line)\n",
    "    t_alphas.append(line[0])\n",
    "    t_betas.append(line[1]) \n",
    "        \n",
    "t_alphas = [round(i) for i in t_alphas] \n",
    "t_betas = [round(i) for i in t_betas]\n",
    "\n",
    "predictions_at = LR_a.predict(test_set);\n",
    "predictions_bt = LR_b.predict(test_set);"
   ]
  },
  {
   "cell_type": "code",
   "execution_count": 8,
   "metadata": {},
   "outputs": [
    {
     "name": "stdout",
     "output_type": "stream",
     "text": [
      "[3.2144045771553578, 85.1272740870931]\n"
     ]
    }
   ],
   "source": [
    "a = getAvg(predictions_at, l_alphas);\n",
    "b = getAvg(predictions_bt, l_betas);\n",
    "\n",
    "print([a, b])"
   ]
  },
  {
   "cell_type": "code",
   "execution_count": 38,
   "metadata": {},
   "outputs": [
    {
     "name": "stdout",
     "output_type": "stream",
     "text": [
      "ALPHA\n",
      "BETA\n",
      "[206, 135]\n",
      "[213, 135]\n",
      "[215, 135]\n",
      "[225, 135]\n",
      "[227, 135]\n",
      "[227, 136]\n",
      "[225, 136]\n",
      "[213, 136]\n",
      "[227, 137]\n",
      "[225, 137]\n",
      "[227, 138]\n",
      "[227, 139]\n",
      "[225, 139]\n",
      "[215, 139]\n",
      "[227, 143]\n",
      "[225, 143]\n",
      "[215, 143]\n",
      "[213, 143]\n",
      "[227, 144]\n",
      "[227, 145]\n",
      "[227, 146]\n",
      "[227, 147]\n",
      "Tolerance of 20 degrees\n",
      "Score: 0.9455714900061701\n",
      "\n",
      "[136, 228]\n",
      "[135, 228]\n",
      "[206, 228]\n",
      "[213, 228]\n",
      "[215, 228]\n",
      "[225, 228]\n",
      "[227, 228]\n",
      "[213, 229]\n",
      "[225, 229]\n",
      "[227, 229]\n",
      "[227, 230]\n",
      "[225, 230]\n",
      "[227, 231]\n",
      "[225, 231]\n",
      "[215, 231]\n",
      "[227, 232]\n",
      "[225, 232]\n",
      "[215, 232]\n",
      "[213, 232]\n",
      "[227, 233]\n",
      "[227, 234]\n",
      "[227, 235]\n",
      "[227, 236]\n"
     ]
    }
   ],
   "source": [
    "predictionst = [];\n",
    "temp_labels = [];\n",
    "for x in range(len(predictions_at)):\n",
    "    predictionst.append([predictions_at[x], predictions_bt[x]])\n",
    "    temp_labels.append([t_alphas[x], t_betas[x]])\n",
    "\n",
    "print('ALPHA')\n",
    "templist = []\n",
    "for x in range(len(predictions_at)):\n",
    "    if(abs(predictions_at[x] - t_alphas[x]) > 10):\n",
    "        if [predictions_at[x], t_alphas[x]] not in templist:\n",
    "            print([predictions_at[x], t_alphas[x]])\n",
    "            templist.append([predictions_at[x], t_alphas[x]])\n",
    "\n",
    "print('BETA')\n",
    "templist = []\n",
    "for x in range(len(predictions_bt)):\n",
    "    if(abs(predictions_bt[x] - l_betas[x]) > 10):\n",
    "        if [predictions_bt[x], l_betas[x]] not in templist:\n",
    "            print([predictions_bt[x], l_betas[x]])\n",
    "            templist.append([predictions_bt[x], l_betas[x]])\n",
    "\n",
    "score = getScore(predictionst, temp_labels, 20)\n",
    "\n",
    "templist = []\n",
    "for x in range(len(predictions_bt)):\n",
    "    if [predictions_bt[x], t_betas[x]] not in templist:\n",
    "            print([predictions_bt[x], t_betas[x]])\n",
    "            templist.append([predictions_bt[x], t_betas[x]])"
   ]
  },
  {
   "cell_type": "code",
   "execution_count": null,
   "metadata": {},
   "outputs": [],
   "source": []
  }
 ],
 "metadata": {
  "kernelspec": {
   "display_name": "Python 3",
   "language": "python",
   "name": "python3"
  },
  "language_info": {
   "codemirror_mode": {
    "name": "ipython",
    "version": 3
   },
   "file_extension": ".py",
   "mimetype": "text/x-python",
   "name": "python",
   "nbconvert_exporter": "python",
   "pygments_lexer": "ipython3",
   "version": "3.7.4"
  }
 },
 "nbformat": 4,
 "nbformat_minor": 2
}
